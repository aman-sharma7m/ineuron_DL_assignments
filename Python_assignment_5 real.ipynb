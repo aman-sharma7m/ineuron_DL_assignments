{
 "cells": [
  {
   "cell_type": "code",
   "execution_count": 1,
   "metadata": {},
   "outputs": [
    {
     "name": "stdout",
     "output_type": "stream",
     "text": [
      "Americans  play Baseball\n",
      "Americans  play Cricket\n",
      "Americans  watch Baseball\n",
      "Americans  watch Cricket\n",
      "Indians play Baseball\n",
      "Indians play Cricket\n",
      "Indians watch Baseball\n",
      "Indians watch Cricket\n"
     ]
    }
   ],
   "source": [
    "subjects=[\"Americans \",\"Indians\"]\n",
    "verbs=[\"play\",\"watch\"]\n",
    "objects=[\"Baseball\",\"Cricket\"]\n",
    "def sentence_create(sub,verb,obj):\n",
    "    while True:\n",
    "        sent=''\n",
    "        for i in sub:\n",
    "            sent=sent+i+' '\n",
    "            for j in verb:\n",
    "                sent=sent+j\n",
    "                for k in obj:\n",
    "                    temp=sent+' '+k\n",
    "                    print(temp)\n",
    "                sent=sent.strip(j)\n",
    "            sent=sent.strip(i)   \n",
    "                    \n",
    "        break\n",
    "sentence_create(subjects,verbs,objects)"
   ]
  }
 ],
 "metadata": {
  "kernelspec": {
   "display_name": "Python 3",
   "language": "python",
   "name": "python3"
  },
  "language_info": {
   "codemirror_mode": {
    "name": "ipython",
    "version": 3
   },
   "file_extension": ".py",
   "mimetype": "text/x-python",
   "name": "python",
   "nbconvert_exporter": "python",
   "pygments_lexer": "ipython3",
   "version": "3.8.3"
  }
 },
 "nbformat": 4,
 "nbformat_minor": 4
}
