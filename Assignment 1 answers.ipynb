{
 "cells": [
  {
   "cell_type": "raw",
   "metadata": {},
   "source": [
    "Calculate the mean, median, mode and standard deviation for the problem \n",
    "statements 1& 2.\n",
    "\n",
    "Problem Statement 1: \n",
    "The marks awarded for an assignment set for a Year 8 class of 20 students were as \n",
    "follows:\n",
    "6 7 5 7 7 8 7 6 9 7 4 10 6 8 8 9 5 6 4 8\n",
    "\n",
    "Problem Statement 2: \n",
    "The number of calls from motorists per day for roadside service was recorded for a \n",
    "particular month:\n",
    "28, 122, 217, 130, 120, 86, 80, 90, 140, 120, 70, 40, 145, 113, 90, 68, 174, 194, 170, 100, 75, 104, 97, 75,123, 100, 75, 104, 97, 75, 123, 100, 89, 120, 109\n",
    "\n",
    "Problem Statement 3: \n",
    "The number of times I go to the gym in weekdays, are given below along with its \n",
    "associated probability:\n",
    "x = 0, 1, 2, 3, 4, 5\n",
    "f(x) = 0.09, 0.15, 0.40, 0.25, 0.10, 0.01\n",
    "Calculate the mean no. of workouts in a week. Also evaluate the variance involved in \n",
    "it.\n",
    "\n",
    "Problem Statement 4:\n",
    "Let the continuous random variable D denote the diameter of the hole drilled in an \n",
    "aluminum sheet. The target diameter to be achieved is 12.5mm. Random \n",
    "disturbances in the process often result in inaccuracy.\n",
    "Historical data shows that the distribution of D can be modelled by the PDF (𝑑) = \n",
    "20𝑒−20(𝑑−12.5), 𝑑 ≥ 12.5. If a part with diameter > 12.6 mm needs to be scrapped, \n",
    "what is the proportion of those parts? What is the CDF when the diameter is of 11 \n",
    "mm? What is your conclusion regarding the proportion of scraps?\n",
    "\n",
    "problem 5:\n",
    "A company manufactures LED bulbs with a faulty rate of 30%. If I randomly select 6 \n",
    "chosen LEDs, what is the probability of having 2 faulty LEDs in my sample? \n",
    "Calculate the average value of this process. Also evaluate the standard deviation \n",
    "associated with it.\n"
   ]
  },
  {
   "cell_type": "code",
   "execution_count": 41,
   "metadata": {},
   "outputs": [],
   "source": [
    "import numpy as np\n",
    "import pandas as pd\n",
    "from scipy import stats"
   ]
  },
  {
   "cell_type": "code",
   "execution_count": 31,
   "metadata": {},
   "outputs": [
    {
     "name": "stdout",
     "output_type": "stream",
     "text": [
      "mean of the data:6.85\n",
      "median of the data:7.0\n",
      "mode of the data:7\n",
      "std of the data:1.6311119875071343\n"
     ]
    }
   ],
   "source": [
    "#Answer1\n",
    "st='6 7 5 7 7 8 7 6 9 7 4 10 6 8 8 9 5 6 4 8'\n",
    "marks=pd.Series([int(i) for i in st.split(' ')])\n",
    "print('mean of the data:{}'.format(marks.mean()))\n",
    "print('median of the data:{}'.format(marks.median()))\n",
    "print('mode of the data:{}'.format(marks.mode()[0]))\n",
    "print('std of the data:{}'.format(marks.std()))"
   ]
  },
  {
   "cell_type": "code",
   "execution_count": 33,
   "metadata": {},
   "outputs": [
    {
     "name": "stdout",
     "output_type": "stream",
     "text": [
      "mean of the data:107.51428571428572\n",
      "median of the data:100.0\n",
      "mode of the data:75\n",
      "std of the data:39.33892805484411\n"
     ]
    }
   ],
   "source": [
    "#Answer 2\n",
    "data=[28, 122, 217, 130, 120, 86, 80, 90, 140, 120, 70, 40, 145, 113, 90, 68, 174, 194, 170, 100, 75, 104, 97, 75,123, 100, 75, 104, 97, 75, 123, 100, 89, 120, 109]\n",
    "data=pd.Series(data)\n",
    "print('mean of the data:{}'.format(data.mean()))\n",
    "print('median of the data:{}'.format(data.median()))\n",
    "print('mode of the data:{}'.format(data.mode()[0]))\n",
    "print('std of the data:{}'.format(data.std()))"
   ]
  },
  {
   "cell_type": "code",
   "execution_count": 51,
   "metadata": {},
   "outputs": [
    {
     "name": "stdout",
     "output_type": "stream",
     "text": [
      "mean 0.16666666666666666\n",
      "variance 0.016088888888888892\n",
      "std 0.12684198393626966\n"
     ]
    }
   ],
   "source": [
    "#Answer 3\n",
    "data=[ 0.09, 0.15, 0.40, 0.25, 0.10, 0.01]\n",
    "print('mean',np.mean(data))\n",
    "print('variance',np.var(data))\n",
    "print('std',np.std(data))"
   ]
  },
  {
   "cell_type": "code",
   "execution_count": 52,
   "metadata": {},
   "outputs": [],
   "source": [
    "#answer 4\n",
    "#p(x>12.60)=0.135\n",
    "#0.135 needs to be scraped"
   ]
  },
  {
   "cell_type": "code",
   "execution_count": 86,
   "metadata": {},
   "outputs": [
    {
     "name": "stdout",
     "output_type": "stream",
     "text": [
      "for exactly 2 bulb defect: 0.32413499999999995\n",
      "mean is 1.7999999999999998\n",
      "var is : 1.2599999999999998\n"
     ]
    },
    {
     "data": {
      "text/plain": [
       "Text(0, 0.5, 'probability')"
      ]
     },
     "execution_count": 86,
     "metadata": {},
     "output_type": "execute_result"
    },
    {
     "data": {
      "image/png": "[encoded data removed]",
      "text/plain": [
       "<Figure size 432x288 with 1 Axes>"
      ]
     },
     "metadata": {
      "needs_background": "light"
     },
     "output_type": "display_data"
    }
   ],
   "source": [
    "#answer 5\n",
    "from scipy import stats\n",
    "import seaborn as sns\n",
    "import matplotlib.pyplot as pl\n",
    "data=[stats.binom.pmf(k=i,n=6,p=0.3) for i in range(7)]\n",
    "#print(data)\n",
    "print('for exactly 2 bulb defect:',data[2])\n",
    "mean,var=stats.binom.stats(6,0.3)\n",
    "print('mean is',mean)\n",
    "print('var is :',var)\n",
    "sns.barplot([i for i in range(7)],data)\n",
    "pl.xlabel('no. of defect')\n",
    "pl.ylabel('probability')"
   ]
  },
  {
   "cell_type": "raw",
   "metadata": {},
   "source": [
    "Problem Statement 6:\n",
    "Gaurav and Barakha are both preparing for entrance exams. Gaurav attempts to \n",
    "solve 8 questions per day with a correction rate of 75%, while Barakha averages \n",
    "around 12 questions per day with a correction rate of 45%. What is the probability \n",
    "that each of them will solve 5 questions correctly? What happens in cases of 4 and 6 \n",
    "correct solutions? What do you infer from it? What are the two main governing \n",
    "factors affecting their ability to solve questions correctly? Give a pictorial \n",
    "representation of the same to validate your answer."
   ]
  },
  {
   "cell_type": "code",
   "execution_count": 105,
   "metadata": {},
   "outputs": [
    {
     "name": "stdout",
     "output_type": "stream",
     "text": [
      "probability that gaurav solve 5 question correct: 0.0009341233098638239\n",
      "probability that barkha solve 5 question correct: 9.805027272165134e-05\n",
      "\n",
      "probability that gaurav solve 4 question correct: 0.006227488732425486\n",
      "probability that barkha solve 4 question correct: 0.0010894474746850139\n",
      "\n",
      "probability that gaurav solve 6 question correct: 0.00011676541373297796\n",
      "probability that barkha solve 6 question correct: 7.353770454123851e-06\n",
      "\n",
      "two governing factores are their no of question attempt and success rate\n"
     ]
    },
    {
     "data": {
      "image/png": "[encoded data removed]",
      "text/plain": [
       "<Figure size 432x288 with 1 Axes>"
      ]
     },
     "metadata": {
      "needs_background": "light"
     },
     "output_type": "display_data"
    },
    {
     "data": {
      "image/png": "[encoded data removed]",
      "text/plain": [
       "<Figure size 432x288 with 1 Axes>"
      ]
     },
     "metadata": {
      "needs_background": "light"
     },
     "output_type": "display_data"
    }
   ],
   "source": [
    "from scipy import stats\n",
    "import seaborn as sns\n",
    "import matplotlib.pyplot as pl\n",
    "gaurav_data=[stats.poisson.pmf(k=i,mu=0.75) for i in range(9)]\n",
    "barkha_data=[stats.poisson.pmf(k=i,mu=0.45) for i in range(13)]\n",
    "print('probability that gaurav solve 5 question correct:',gaurav_data[5])\n",
    "print('probability that barkha solve 5 question correct:',barkha_data[5])\n",
    "print()\n",
    "print('probability that gaurav solve 4 question correct:',gaurav_data[4])\n",
    "print('probability that barkha solve 4 question correct:',barkha_data[4])\n",
    "print()\n",
    "print('probability that gaurav solve 6 question correct:',gaurav_data[6])\n",
    "print('probability that barkha solve 6 question correct:',barkha_data[6])\n",
    "print()\n",
    "print('two governing factores are their no of question attempt and success rate')\n",
    "sns.barplot([i for i in range(13)],barkha_data)\n",
    "pl.xlabel('no of question solved correctly')\n",
    "pl.ylabel('probability')\n",
    "pl.title('barkha')\n",
    "\n",
    "pl.show()\n",
    "sns.barplot([i for i in range(9)],gaurav_data)\n",
    "pl.xlabel('no of question solved correctly')\n",
    "pl.ylabel('probability')\n",
    "pl.title('gaurav')\n",
    "pl.show()\n",
    "\n"
   ]
  },
  {
   "cell_type": "raw",
   "metadata": {},
   "source": [
    "Problem Statement 7:\n",
    "Customers arrive at a rate of 72 per hour to my shop. What is the probability of 𝑘\n",
    "customers arriving in 4 minutes? a) 5 customers, b) not more than 3 customers, c) \n",
    "more than 3 customers. Give a pictorial representation of the same to validate your \n",
    "answer."
   ]
  },
  {
   "cell_type": "code",
   "execution_count": 113,
   "metadata": {},
   "outputs": [
    {
     "data": {
      "image/png": "[encoded data removed]",
      "text/plain": [
       "<Figure size 432x288 with 1 Axes>"
      ]
     },
     "metadata": {
      "needs_background": "light"
     },
     "output_type": "display_data"
    },
    {
     "name": "stdout",
     "output_type": "stream",
     "text": [
      "p(k=5)= 0.17474768364388296\n",
      "p(k<=3)= 0.29422991649656405\n",
      "p(k>3)= 0.7056227874663289\n"
     ]
    }
   ],
   "source": [
    "mu=(72/60)*4\n",
    "data=[stats.poisson.pmf(k=i,mu=mu) for i in range(15)]\n",
    "sns.barplot([i for i in range(15)],data)\n",
    "pl.xlabel('no of customer arrive in 4 minutes')\n",
    "pl.ylabel('probability')\n",
    "pl.show()\n",
    "print('p(k=5)=',data[5])\n",
    "print('p(k<=3)=',sum(data[:4]))\n",
    "print('p(k>3)=',sum(data[4:]))"
   ]
  },
  {
   "cell_type": "raw",
   "metadata": {},
   "source": [
    "Problem Statement 8:\n",
    "I work as a data analyst in Aeon Learning Pvt. Ltd. After analyzing data, I make \n",
    "reports, where I have the efficiency of entering 77 words per minute with 6 errors per \n",
    "hour. What is the probability that I will commit 2 errors in a 455-word financial report?\n",
    "What happens when the no. of words increases/decreases (in case of 1000 words, \n",
    "255 words)? \n",
    "How is the 𝜆 affected?\n",
    "How does it influence the PMF? \n",
    "Give a pictorial representation of the same to validate your answer."
   ]
  },
  {
   "cell_type": "code",
   "execution_count": 130,
   "metadata": {},
   "outputs": [
    {
     "name": "stdout",
     "output_type": "stream",
     "text": [
      "2.51536143880336e-13\n"
     ]
    },
    {
     "data": {
      "image/png": "[encoded data removed]",
      "text/plain": [
       "<Figure size 432x288 with 1 Axes>"
      ]
     },
     "metadata": {
      "needs_background": "light"
     },
     "output_type": "display_data"
    },
    {
     "name": "stdout",
     "output_type": "stream",
     "text": [
      "4.3768593897408885e-31\n"
     ]
    },
    {
     "data": {
      "image/png": "[encoded data removed]",
      "text/plain": [
       "<Figure size 432x288 with 1 Axes>"
      ]
     },
     "metadata": {
      "needs_background": "light"
     },
     "output_type": "display_data"
    },
    {
     "name": "stdout",
     "output_type": "stream",
     "text": [
      "4.633227851444488e-07\n"
     ]
    },
    {
     "data": {
      "image/png": "[encoded data removed]",
      "text/plain": [
       "<Figure size 432x288 with 1 Axes>"
      ]
     },
     "metadata": {
      "needs_background": "light"
     },
     "output_type": "display_data"
    }
   ],
   "source": [
    "mu=(6/77)*455\n",
    "data=[stats.poisson.pmf(k=i,mu=mu) for i in range(30)]\n",
    "print(data[2])\n",
    "sns.barplot([i for i in range(30)],data)\n",
    "pl.xlabel('no of error')\n",
    "pl.ylabel('probability')\n",
    "pl.title('455 words')\n",
    "pl.show()\n",
    "\n",
    "mu=(6/77)*1000\n",
    "data=[stats.poisson.pmf(k=i,mu=mu) for i in range(30)]\n",
    "print(data[2])\n",
    "sns.barplot([i for i in range(30)],data)\n",
    "pl.xlabel('no of error')\n",
    "pl.ylabel('probability')\n",
    "pl.title('1000 words')\n",
    "pl.show()\n",
    "\n",
    "mu=(6/77)*255\n",
    "data=[stats.poisson.pmf(k=i,mu=mu) for i in range(30)]\n",
    "print(data[2])\n",
    "sns.barplot([i for i in range(30)],data)\n",
    "pl.xlabel('no of error')\n",
    "pl.ylabel('probability')\n",
    "pl.title('255 words')\n",
    "pl.show()"
   ]
  },
  {
   "cell_type": "raw",
   "metadata": {},
   "source": [
    "Problem Statement 11:\n",
    "The current flow in a copper wire follow a normal distribution with a mean of 10 𝑚A \n",
    "and a variance of 4 (𝑚𝐴)2. \n",
    "What is the probability that a current measurement will exceed 13 𝑚𝐴? What is the \n",
    "probability that a current measurement is between 9 and 11mA? Determine the \n",
    "current measurement which has a probability of 0.98."
   ]
  },
  {
   "cell_type": "code",
   "execution_count": 150,
   "metadata": {},
   "outputs": [
    {
     "name": "stdout",
     "output_type": "stream",
     "text": [
      "p(x>=13)= 0.10324560387325193\n",
      "p(x>9 and x<11)= 0.5515364669650159\n",
      "the current measurement which has a probability of 0.98.= 0 to 14 value is  0.9885078198067085\n"
     ]
    },
    {
     "data": {
      "image/png": "[encoded data removed]",
      "text/plain": [
       "<Figure size 432x288 with 1 Axes>"
      ]
     },
     "metadata": {
      "needs_background": "light"
     },
     "output_type": "display_data"
    }
   ],
   "source": [
    "mean=10\n",
    "var=4\n",
    "std=2\n",
    "\n",
    "data=[stats.norm.pdf(loc=mean,scale=std,x=i) for i in range(20)]\n",
    "print('p(x>=13)=',sum(data[13:]))\n",
    "print('p(x>9 and x<11)=',sum(data[9:12]))\n",
    "val=0\n",
    "for j,i in enumerate(data):\n",
    "    if val<0.98:\n",
    "        val+=i\n",
    "    else:\n",
    "        print('the current measurement which has a probability of 0.98.=','0 to',j-1,'value is ',val)\n",
    "        break\n",
    "\n",
    "\n",
    "    \n",
    "pl.plot([i for i in range(20)],data)\n",
    "pl.show()"
   ]
  },
  {
   "cell_type": "raw",
   "metadata": {},
   "source": [
    "Problem Statement 12:\n",
    "The shaft in a piston has its diameter normally distributed with a mean of 0.2508 inch \n",
    "and a standard deviation of 0.0005 inch. The specifications of the shaft are 0.2500 ∓\n",
    "0.0015 inch. What proportion of shafts are in sync with the specifications? If the \n",
    "process is centered so that the mean is equal to the target value of 0.2500, what \n",
    "proportion of shafts conform to the new specifications? What is your conclusion from \n",
    "this experiment?"
   ]
  },
  {
   "cell_type": "code",
   "execution_count": null,
   "metadata": {},
   "outputs": [],
   "source": [
    "#answer 0.2857 of the shaft conforms to the specification"
   ]
  }
 ],
 "metadata": {
  "kernelspec": {
   "display_name": "Python 3",
   "language": "python",
   "name": "python3"
  },
  "language_info": {
   "codemirror_mode": {
    "name": "ipython",
    "version": 3
   },
   "file_extension": ".py",
   "mimetype": "text/x-python",
   "name": "python",
   "nbconvert_exporter": "python",
   "pygments_lexer": "ipython3",
   "version": "3.8.3"
  }
 },
 "nbformat": 4,
 "nbformat_minor": 4
}
