subjects=["Americans ","Indians"]
verbs=["play","watch"]
objects=["Baseball","Cricket"]
def sentence_create(sub,verb,obj):
    while True:
        sent=''
        for i in sub:
            sent=sent+i+' '
            for j in verb:
                sent=sent+j
                for k in obj:
                    temp=sent+' '+k
                    print(temp)
                sent=sent.strip(j)
            sent=sent.strip(i)   
                    
        break
sentence_create(subjects,verbs,objects)
